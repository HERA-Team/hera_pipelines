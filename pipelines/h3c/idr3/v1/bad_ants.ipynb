{
 "cells": [
  {
   "cell_type": "code",
   "execution_count": 1,
   "metadata": {
    "ExecuteTime": {
     "end_time": "2020-08-06T21:59:45.575133Z",
     "start_time": "2020-08-06T21:59:45.128560Z"
    }
   },
   "outputs": [],
   "source": [
    "import csv\n",
    "import numpy as np\n",
    "import matplotlib.pyplot as plt\n",
    "from copy import deepcopy"
   ]
  },
  {
   "cell_type": "code",
   "execution_count": 2,
   "metadata": {
    "ExecuteTime": {
     "end_time": "2020-08-06T21:59:45.584066Z",
     "start_time": "2020-08-06T21:59:45.576342Z"
    }
   },
   "outputs": [],
   "source": [
    "# Obtained from here: https://docs.google.com/spreadsheets/d/1Nlk3QQMEmiqU6oUdWcT2jk9m0kTugWfH3xTqaKv_vcI/edit#gid=11191371\n",
    "with open('H3C_Antennas_Bad_Antennas.csv') as csvfile:\n",
    "    reader = csv.DictReader(csvfile)\n",
    "    data = []\n",
    "    for row in reader:\n",
    "        data.append(row)"
   ]
  },
  {
   "cell_type": "code",
   "execution_count": 3,
   "metadata": {
    "ExecuteTime": {
     "end_time": "2020-08-06T21:59:45.602826Z",
     "start_time": "2020-08-06T21:59:45.585593Z"
    }
   },
   "outputs": [],
   "source": [
    "# make dictionary for all JDs\n",
    "bad_ants = {}\n",
    "for JD in data[0].values():\n",
    "    try:\n",
    "        int(JD)\n",
    "        bad_ants[JD] = []\n",
    "    except:\n",
    "        pass\n",
    "\n",
    "# add all bad ants to each JD\n",
    "for row in data[3:]:\n",
    "    for key, val in row.items():\n",
    "        if data[0][key] in bad_ants:\n",
    "            try:\n",
    "                bad_ants[data[0][key]].append(int(val))\n",
    "            except:\n",
    "                pass\n",
    "                \n",
    "for JD in bad_ants:\n",
    "    bad_ants[JD] = sorted(set(bad_ants[JD]))"
   ]
  },
  {
   "cell_type": "code",
   "execution_count": 4,
   "metadata": {
    "ExecuteTime": {
     "end_time": "2020-08-06T21:59:45.606291Z",
     "start_time": "2020-08-06T21:59:45.603938Z"
    }
   },
   "outputs": [],
   "source": [
    "# These are the antennas I found to be bad upon careful inspection of 2458937 after multiple redcal runs\n",
    "analysis_hand_flags = [2, 11, 12, 13, 14, 23, 26, 39, 45, 88, 90, 116, 121, 138, 142, 155, 160, 161, 180]\n",
    "start_JD = 2458918\n",
    "end_JD = 2458938"
   ]
  },
  {
   "cell_type": "code",
   "execution_count": 10,
   "metadata": {
    "ExecuteTime": {
     "end_time": "2020-08-06T22:06:43.574991Z",
     "start_time": "2020-08-06T22:06:43.555111Z"
    },
    "scrolled": false
   },
   "outputs": [
    {
     "name": "stdout",
     "output_type": "stream",
     "text": [
      "2458918:\n",
      "Observer Good Ants: 28  Analysis Good Ants: 24\n",
      "2458919:\n",
      "Observer Good Ants: 34  Analysis Good Ants: 29\n",
      "2458920:\n",
      "Observer Good Ants: 46  Analysis Good Ants: 39\n",
      "2458921:\n",
      "Observer Good Ants: 38  Analysis Good Ants: 32\n",
      "2458922:\n",
      "Observer Good Ants: 39  Analysis Good Ants: 35\n",
      "2458923:\n",
      "Observer Good Ants: 55  Analysis Good Ants: 44\n",
      "2458924:\n",
      "Observer Good Ants: 38  Analysis Good Ants: 34\n",
      "2458927:\n",
      "Observer Good Ants: 40  Analysis Good Ants: 36\n",
      "2458928:\n",
      "Observer Good Ants: 48  Analysis Good Ants: 39\n",
      "2458932:\n",
      "Observer Good Ants: 39  Analysis Good Ants: 37\n",
      "2458933:\n",
      "Observer Good Ants: 40  Analysis Good Ants: 39\n",
      "2458934:\n",
      "Observer Good Ants: 38  Analysis Good Ants: 36\n",
      "2458936:\n",
      "Observer Good Ants: 47  Analysis Good Ants: 45\n",
      "2458937:\n",
      "Observer Good Ants: 49  Analysis Good Ants: 47\n",
      "2458938:\n",
      "Observer Good Ants: 48  Analysis Good Ants: 46\n"
     ]
    }
   ],
   "source": [
    "# save bad ants\n",
    "for JD in bad_ants:\n",
    "    if (int(JD) >= start_JD) and (int(JD) <= end_JD):\n",
    "        with open(f'observer_bad_ants/{JD}.txt', 'w') as f: \n",
    "            for ant in sorted(set(bad_ants[JD])):\n",
    "                f.write(str(ant) + '\\n')\n",
    "        with open(f'analysis_bad_ants/{JD}.txt', 'w') as f: \n",
    "            for ant in sorted(set(bad_ants[JD] + analysis_hand_flags)):\n",
    "                f.write(str(ant) + '\\n')\n",
    "        print(f'{JD}:\\nObserver Good Ants: {350 - len(set(bad_ants[JD]))}  Analysis Good Ants: {350 - len(set(bad_ants[JD] + analysis_hand_flags))}')"
   ]
  },
  {
   "cell_type": "code",
   "execution_count": null,
   "metadata": {},
   "outputs": [],
   "source": []
  }
 ],
 "metadata": {
  "kernelspec": {
   "display_name": "Python 3",
   "language": "python",
   "name": "python3"
  },
  "language_info": {
   "codemirror_mode": {
    "name": "ipython",
    "version": 3
   },
   "file_extension": ".py",
   "mimetype": "text/x-python",
   "name": "python",
   "nbconvert_exporter": "python",
   "pygments_lexer": "ipython3",
   "version": "3.8.3"
  },
  "toc": {
   "base_numbering": 1,
   "nav_menu": {},
   "number_sections": true,
   "sideBar": true,
   "skip_h1_title": false,
   "title_cell": "Table of Contents",
   "title_sidebar": "Contents",
   "toc_cell": false,
   "toc_position": {},
   "toc_section_display": true,
   "toc_window_display": false
  }
 },
 "nbformat": 4,
 "nbformat_minor": 4
}
